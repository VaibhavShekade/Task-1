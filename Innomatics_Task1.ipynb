{
  "nbformat": 4,
  "nbformat_minor": 0,
  "metadata": {
    "colab": {
      "provenance": []
    },
    "kernelspec": {
      "name": "python3",
      "display_name": "Python 3"
    },
    "language_info": {
      "name": "python"
    }
  },
  "cells": [
    {
      "cell_type": "markdown",
      "source": [
        "Q1 Say \"Hello, World!\" With Python"
      ],
      "metadata": {
        "id": "aOTgYkim2Bki"
      }
    },
    {
      "cell_type": "code",
      "source": [
        "print (\"Hello, World!\")\n"
      ],
      "metadata": {
        "colab": {
          "base_uri": "https://localhost:8080/"
        },
        "id": "qoAd2STB2OAy",
        "outputId": "f720d434-3017-4a9b-99bd-31e74b82bf22"
      },
      "execution_count": 1,
      "outputs": [
        {
          "output_type": "stream",
          "name": "stdout",
          "text": [
            "Hello, World!\n"
          ]
        }
      ]
    },
    {
      "cell_type": "markdown",
      "source": [
        "Q2 Python If-Else\n",
        "\n"
      ],
      "metadata": {
        "id": "V8Om0YyQ2ifb"
      }
    },
    {
      "cell_type": "code",
      "source": [
        "import math\n",
        "import os\n",
        "import random\n",
        "import re\n",
        "import sys\n",
        "\n",
        "\n",
        "\n",
        "n = int(input())\n",
        "\n",
        "if n % 2 != 0:\n",
        "    print(\"Weird\")\n",
        "elif (n % 2 == 0) and (2 <= n <= 5):\n",
        "    print(\"Not Weird\")\n",
        "elif n % 2 == 0 and 6 <= n <= 20:\n",
        "    print(\"Weird\")\n",
        "elif n % 2 == 0 and n >= 20:\n",
        "    print(\"Not Weird\") "
      ],
      "metadata": {
        "colab": {
          "base_uri": "https://localhost:8080/"
        },
        "id": "2kZysJZV2fQh",
        "outputId": "666b3371-6c3a-4faf-9f07-848fd9a74c87"
      },
      "execution_count": 2,
      "outputs": [
        {
          "output_type": "stream",
          "name": "stdout",
          "text": [
            "4\n",
            "Not Weird\n"
          ]
        }
      ]
    },
    {
      "cell_type": "markdown",
      "source": [
        "Q3 Arithmetic Operators\n",
        "\n"
      ],
      "metadata": {
        "id": "5GrPPFJo3h9x"
      }
    },
    {
      "cell_type": "code",
      "source": [
        "a = int(input())\n",
        "b = int(input())\n",
        "\n",
        "print (a+b)\n",
        "print (a-b)\n",
        "print (a*b)\n",
        "\n",
        "\n",
        "\n",
        "\n"
      ],
      "metadata": {
        "colab": {
          "base_uri": "https://localhost:8080/"
        },
        "id": "ByyYEtf33uvO",
        "outputId": "8ee7fe94-216b-488a-c3a5-cfceb35e8c50"
      },
      "execution_count": 3,
      "outputs": [
        {
          "output_type": "stream",
          "name": "stdout",
          "text": [
            "5\n",
            "6\n",
            "11\n",
            "-1\n",
            "30\n"
          ]
        }
      ]
    },
    {
      "cell_type": "markdown",
      "source": [
        "Q4 Python: Division\n",
        "\n"
      ],
      "metadata": {
        "id": "4-SPUymI30rf"
      }
    },
    {
      "cell_type": "code",
      "source": [
        "a = int(input())\n",
        "b = int(input())\n",
        "\n",
        "print(int(a/b))\n",
        "print(float(a/b))\n"
      ],
      "metadata": {
        "colab": {
          "base_uri": "https://localhost:8080/"
        },
        "id": "5hj1ptdI39io",
        "outputId": "35af6e9a-5a9c-4556-8d26-6bc7e5dfade9"
      },
      "execution_count": 4,
      "outputs": [
        {
          "output_type": "stream",
          "name": "stdout",
          "text": [
            "65\n",
            "5\n",
            "13\n",
            "13.0\n"
          ]
        }
      ]
    },
    {
      "cell_type": "markdown",
      "source": [
        "Q5 Loops"
      ],
      "metadata": {
        "id": "wPEAgmHQ4FtS"
      }
    },
    {
      "cell_type": "code",
      "source": [
        "N = int(input())\n",
        "m = 0\n",
        "\n",
        "while m < N:\n",
        "    print(m*m)\n",
        "    m = m + 1\n"
      ],
      "metadata": {
        "colab": {
          "base_uri": "https://localhost:8080/"
        },
        "id": "VMc9IUhx4PCa",
        "outputId": "7e357477-5a86-4d08-a1d6-e9413c0eed1e"
      },
      "execution_count": 5,
      "outputs": [
        {
          "output_type": "stream",
          "name": "stdout",
          "text": [
            "5\n",
            "0\n",
            "1\n",
            "4\n",
            "9\n",
            "16\n"
          ]
        }
      ]
    },
    {
      "cell_type": "markdown",
      "source": [
        "Q6 Write a function\n",
        "\n"
      ],
      "metadata": {
        "id": "QImLmdkY4YxO"
      }
    },
    {
      "cell_type": "code",
      "source": [
        "def is_leap(year):\n",
        "    leap = False\n",
        "    \n",
        "    \n",
        "    if year % 400 == 0:\n",
        "        leap = True\n",
        "    elif year % 100 == 0:\n",
        "        leap = False\n",
        "    elif year % 4 == 0:\n",
        "        leap = True\n",
        "    \n",
        "    return leap\n",
        "\n"
      ],
      "metadata": {
        "id": "Lt4skZy24fsd"
      },
      "execution_count": 7,
      "outputs": []
    },
    {
      "cell_type": "markdown",
      "source": [
        "Q7 Print Function\n",
        "\n"
      ],
      "metadata": {
        "id": "2GsLDnBs4rZf"
      }
    },
    {
      "cell_type": "code",
      "source": [
        "a = int(input())\n",
        "\n",
        "n = 0\n",
        "\n",
        "while a > n:\n",
        "    n = n + 1\n",
        "    print(n, end=\"\")\n"
      ],
      "metadata": {
        "colab": {
          "base_uri": "https://localhost:8080/"
        },
        "id": "d-cc0cRH407F",
        "outputId": "a38ae9cf-7597-46c3-f753-1f903db5f06c"
      },
      "execution_count": 8,
      "outputs": [
        {
          "output_type": "stream",
          "name": "stdout",
          "text": [
            "6\n",
            "123456"
          ]
        }
      ]
    }
  ]
}